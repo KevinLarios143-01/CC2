{
  "cells": [
    {
      "cell_type": "markdown",
      "metadata": {
        "id": "QXDiO1q_SGSS"
      },
      "source": [
        "![MAP1.png](https://drive.google.com/uc?export=view&id=1tEg5QHSGv9xR7ZxYcMFRutH6dKaVFbyR)\n"
      ]
    },
    {
      "cell_type": "markdown",
      "metadata": {
        "id": "hahkrKVqQQ4s"
      },
      "source": [
        "# **Herramientas para la computación científica**\n",
        "\n",
        "En este tutorial aprenderá a utilizar herramientas básicas para la computación científica. Existen muchos paquetes que proveen librerías con propósitos espécificos, una de las más conocidas es el entorno SciPy. \n",
        "\n",
        "Scipy (pronunciado \"Sigh Pie\") es un ecosistemas open-source para matemática, ciencia e ingeniería. Los paquetes que utilizaremos son los siguientes:\n",
        "\n",
        "- NumPy\n",
        "- Matplotlib\n",
        "- SciPy library\n",
        "\n",
        "\n",
        "Puede ejecutar los notebooks localmente instatalando las librerías necesarias o abrirlo en google colab con el botón de abajo.\n",
        "\n",
        "[![Open In Colab](https://colab.research.google.com/assets/colab-badge.svg)](https://colab.research.google.com/github/ivan-jgr/computacion-cientifica/blob/main/Laboratorios/Laboratorio-1.ipynb)"
      ]
    },
    {
      "cell_type": "markdown",
      "metadata": {
        "id": "XFI3YIKgQQ4u"
      },
      "source": [
        "## **Preliminares**\n",
        "\n",
        "Python incluye listas (`list`), diccionarios (`dict`), conjuntos (`sets`) y tuplas (`tuples`).\n",
        "\n",
        "- ### Listas\n",
        "Una lista es el equivalente en python de una arreglo, pero se puede cambiar de tamaño y puede contener elementos de diferentes tipos:"
      ]
    },
    {
      "cell_type": "code",
      "execution_count": null,
      "metadata": {
        "id": "Kgc9aRr2QQ4v"
      },
      "outputs": [],
      "source": [
        "xs = [1, 2, 3] # Crear una lista\n",
        "print(xs, xs[2]) # Imprime \"[1, 2, 3] 3\"\n",
        "print(xs[-1]) # Los índices negativos se cuentan a partir del final de la lista; Imprime 3\n",
        "xs[2] = 'mate6' # Las listas pueden contener elementos de diferentes tipos\n",
        "print(xs) # Imprime \"[1, 2, 'mate6']\"\n",
        "xs.append('ug') # Agrega un elemento al final de la lista\n",
        "print(xs) # Imprime \"[1, 2, 'mate6', 'ug']\"\n",
        "x = xs.pop() # Remueve el último elemento de la lista\n",
        "print(x, xs)"
      ]
    },
    {
      "cell_type": "markdown",
      "metadata": {
        "id": "aN5LBP22QQ4v"
      },
      "source": [
        "Puede encontar más detalles sobre las listas [en la documentación](https://docs.python.org/3.5/tutorial/datastructures.html#more-on-lists).\n",
        "\n",
        "**Slicing**: Además de acceder a los elementos de la lista de uno en uno python proporciona una sintaxis concisa para acceder a las sublistas: esto se conoce como slicing:"
      ]
    },
    {
      "cell_type": "code",
      "execution_count": null,
      "metadata": {
        "id": "RqYnm_K3QQ4w"
      },
      "outputs": [],
      "source": [
        "nums = list(range(5)) # range es una función que crea una lista de enteros\n",
        "print(nums) # Imprime \"[0, 1, 2, 3, 4]\"\n",
        "print(nums[2:4]) # Obtenemos la sublista desde el índice 2 hasta el indice 4 (sin incluirlo); Imprime \"[2, 3]\"\n",
        "print(nums[2:]) # Obtenemos una sublista desde el índice 2 hasta el final del arreglo; Imprime \"[2, 3, 4]\"\n",
        "print(nums[:2]) # Obtenemos una sublista desde el inicio del arreglo hasta el índice 2 (sin incluirlo); Imprime \"[0, 1]\"\n",
        "print(nums[:]) # Obtenemos todos los elementos de la lista; Imprime \"[0, 1, 2, 3, 4]\"\n",
        "print(nums[:-1]) # Los índices para el slicing pueden ser negativos; Imprime \"[0, 1, 2, 3]\"\n",
        "nums[2:4] = [8, 9] # Asignamos una nueva sublista a un slice\n",
        "print(nums) # Imprime \"[0, 1, 8, 9, 4]\""
      ]
    },
    {
      "cell_type": "markdown",
      "metadata": {
        "id": "DBY6mjJSQQ4w"
      },
      "source": [
        "Usaremos slicing en el contexto de los arreglos de numpy.\n",
        "\n",
        "**Loops**: puede iterar sobre los elementos de una lista de la siguiente forma:"
      ]
    },
    {
      "cell_type": "code",
      "execution_count": null,
      "metadata": {
        "id": "uji8nOsxQQ4w"
      },
      "outputs": [],
      "source": [
        "mathematicians = ['Gauss', 'Riemann', 'Cauchy']\n",
        "\n",
        "for mathematician in mathematicians:\n",
        "    print(mathematician)"
      ]
    },
    {
      "cell_type": "markdown",
      "metadata": {
        "id": "ciafJnXIQQ4x"
      },
      "source": [
        "Puede acceder al índice de cada elemento usando `enumerate`."
      ]
    },
    {
      "cell_type": "code",
      "execution_count": null,
      "metadata": {
        "id": "6AAxRY1cQQ4x"
      },
      "outputs": [],
      "source": [
        "mathematicians = ['Gauss', 'Riemann', 'Cauchy']\n",
        "\n",
        "for idx, mathematician in enumerate(mathematicians):\n",
        "    print('#%d: %s' % (idx + 1, mathematician))"
      ]
    },
    {
      "cell_type": "markdown",
      "metadata": {
        "id": "nxV8VQoDQQ4y"
      },
      "source": [
        "**List comprehensions**: Cuando programamos usualmente transformamos un tipo de dato en otro. Como un simple ejemplo, considere el siguiente código que calcula el cuadrado de un número:"
      ]
    },
    {
      "cell_type": "code",
      "execution_count": null,
      "metadata": {
        "id": "mea2X4p9QQ4y"
      },
      "outputs": [],
      "source": [
        "nums = [1, 2, 3, 4]\n",
        "squares = []\n",
        "for x in nums:\n",
        "    squares.append(x ** 2)\n",
        "\n",
        "print(squares)"
      ]
    },
    {
      "cell_type": "markdown",
      "metadata": {
        "id": "qRojcq5eQQ4y"
      },
      "source": [
        "Este código se puede escribir de forma más simple usando **list comprehension**"
      ]
    },
    {
      "cell_type": "code",
      "execution_count": null,
      "metadata": {
        "id": "wI9QWfV4QQ4z"
      },
      "outputs": [],
      "source": [
        "nums = [1, 2, 3, 4]\n",
        "squares = [ x ** 2 for x in nums]\n",
        "print(squares)"
      ]
    },
    {
      "cell_type": "markdown",
      "metadata": {
        "id": "4Cx08-YDQQ4z"
      },
      "source": [
        "## **Numpy** \n",
        "<img src=\"https://numpy.org/images/logos/numpy.svg\" width=100px>\n",
        "\n",
        "Numpy es la librería importante para la computación científica en python. Proporciona arreglos multidimensional (como objetos) altamente optimizados y otras herramientas para trabajar con matrices.\n",
        "\n",
        "### **Arrays**\n",
        "Un arreglo numpy es un *grid* de valores, todos del mismo tipo e indexados por una tupla de enteros no negativos. El número de dimensiones en el rango (`rank`) del arreglo; la forma (`shape`) de un arreglo es una tupla de enteros que proporciona el tamaño del arreglo en cada dimensión.\n",
        "\n",
        "Podemos inicializar arreglos numpy con listas anidadas de python y acceder a ellos usando brackets(`[]`)."
      ]
    },
    {
      "cell_type": "code",
      "execution_count": null,
      "metadata": {
        "id": "AJ7kjgbfQQ4z"
      },
      "outputs": [],
      "source": [
        "import numpy as np\n",
        "\n",
        "a = np.array([1, 2, 3]) # Crea un arreglo de rango 1\n",
        "print(type(a)) # Imprime \"<class 'numpy.ndarray'>\"\n",
        "print(a.shape) # Imprime \"(3,)\"\n",
        "print(a[0], a[1], a[2]) # Imprime \"1 2 3\"\n",
        "a[0] = 5 # Cambia un elemento del arreglo\n",
        "print(a) # Imprime \"[5, 2, 3]\"\n",
        "\n",
        "b = np.array([[1,2,3],[4,5,6]]) # Crear un arreglo de rango 2 (una matriz)\n",
        "print(b.shape) # Imprime \"(2, 3)\"\n",
        "print(b[0, 0], b[0, 1], b[1, 0]) # Imprime \"1 2 4\""
      ]
    },
    {
      "cell_type": "markdown",
      "metadata": {
        "id": "bd79RAasQQ4z"
      },
      "source": [
        "Numpy también proporciona varias funciones para crear arreglos."
      ]
    },
    {
      "cell_type": "code",
      "execution_count": null,
      "metadata": {
        "id": "ksJLoQ0eQQ40"
      },
      "outputs": [],
      "source": [
        "import numpy as np\n",
        "\n",
        "a = np.zeros((2,2)) # Crear un arreglo de ceros\n",
        "print(a) # Imprime \"[[ 0.  0.]\n",
        "        #          [ 0.  0.]]\"\n",
        "\n",
        "b = np.ones((1,2)) # Crea un arreglo de unos\n",
        "print(b) # Imprime \"[[ 1.  1.]]\"\n",
        "\n",
        "c = np.full((2,2), 7) # Crear un arreglo de sietes\n",
        "print(c) # Imprime \"[[ 7.  7.]\n",
        "        #          [ 7.  7.]]\"\n",
        "\n",
        "d = np.eye(2) # Crea la matriz identidad de 2x2\n",
        "print(d) # Imprime \"[[ 1.  0.]\n",
        "         #          [ 0.  1.]]\"\n",
        "\n",
        "e = np.random.random((2,2)) # Crea un arreglo y lo llena con valores aleatorios\n",
        "print(e)"
      ]
    },
    {
      "cell_type": "markdown",
      "metadata": {
        "id": "vdD-lpY_QQ40"
      },
      "source": [
        "### **Array indexing**\n",
        "Numpy permite varias formas de indexar arreglos.\n",
        "\n",
        "**Slicing**: Similar a las listas de python, en los arreglos numpy también se puede usar slicing. Slicing puede ser multidimensional, especificado el slice para cada dimensión del arreglo:"
      ]
    },
    {
      "cell_type": "code",
      "execution_count": null,
      "metadata": {
        "id": "LhgUzY-sQQ40"
      },
      "outputs": [],
      "source": [
        "import numpy as np\n",
        "\n",
        "# Crea un arreglo de rango 2 con shape (3, 4)\n",
        "# [[ 1  2  3  4]\n",
        "#  [ 5  6  7  8]\n",
        "#  [ 9 10 11 12]]\n",
        "a = np.array([[1,2,3,4], [5,6,7,8], [9,10,11,12]])\n",
        "\n",
        "# Usando slicing para obtener un subarreglo que consiste en las primeras 2 filas\n",
        "# y las columnas 1 y 2; b es un arreglo con shape (2, 2):\n",
        "# [[2 3]\n",
        "#  [6 7]]\n",
        "b = a[:2, 1:3]\n",
        "\n",
        "# Modificar un slice de un arreglo modificará el arreglo original\n",
        "print(a[0, 1]) # Imprime \"2\"\n",
        "b[0, 0] = 77 # b[0, 0] es lo mismo que a[0, 1]\n",
        "print(a[0, 1]) # Imprime \"77\""
      ]
    },
    {
      "cell_type": "markdown",
      "metadata": {
        "id": "wI2dml8XQQ40"
      },
      "source": [
        "Puede usar índices enteros o indexar con slicing. Sin embargo, al hacer esto se obtendrá un arreglo de rango menor que el original."
      ]
    },
    {
      "cell_type": "code",
      "execution_count": null,
      "metadata": {
        "id": "CPVerNbfQQ41"
      },
      "outputs": [],
      "source": [
        "import numpy as np\n",
        "\n",
        "# Crea el siguiente arreglo de rango 2 con shape (3, 4)\n",
        "# [[ 1  2  3  4]\n",
        "#  [ 5  6  7  8]\n",
        "#  [ 9 10 11 12]]\n",
        "a = np.array([[1,2,3,4], [5,6,7,8], [9,10,11,12]])\n",
        "\n",
        "# Dos formas de acceder los datos en medio de una fila del arreglo.\n",
        "row_r1 = a[1, :] # Esta es un slice del arreglo (la primera fila). Note que row_r1 tiene rango 1\n",
        "row_r2 = a[1:2, :] # Esta es un slice del arreglo (la segunda fila). Note que row_r2 tiene rango 1\n",
        "print(row_r1, row_r1.shape) # Imprime \"[5 6 7 8] (4,)\"\n",
        "print(row_r2, row_r2.shape) # Imprime \"[[5 6 7 8]] (1, 4)\"\n",
        "\n",
        "# Podemos hacerlo de forma similar al acceder a las columnas del arreglo.\n",
        "col_r1 = a[:, 1]\n",
        "col_r2 = a[:, 1:2]\n",
        "print(col_r1, col_r1.shape) # Imprime \"[ 2  6 10] (3,)\"\n",
        "print(col_r2, col_r2.shape) # Imprime \"[[ 2]\n",
        "                             #          [ 6]\n",
        "                             #          [10]] (3, 1)\""
      ]
    },
    {
      "cell_type": "markdown",
      "metadata": {
        "id": "D9KhDhzyQQ41"
      },
      "source": [
        "## **Matemática con Arrays**\n",
        "Funciones matemáticas básicas operan elemento-a-elemento (`elementwise`) sobre arreglos."
      ]
    },
    {
      "cell_type": "code",
      "execution_count": null,
      "metadata": {
        "id": "x5My_IMzQQ41"
      },
      "outputs": [],
      "source": [
        "import numpy as np\n",
        "\n",
        "# Crear arreglos con elementos de tipo float64\n",
        "x = np.array([[1,2],[3,4]], dtype=np.float64)\n",
        "y = np.array([[5,6],[7,8]], dtype=np.float64)\n",
        "\n",
        "# Suma elemento a elemento; las dos formas de hacerlo son equivalentes\n",
        "# [[ 6.0  8.0]\n",
        "#  [10.0 12.0]]\n",
        "print(x + y)\n",
        "print(np.add(x, y))\n",
        "\n",
        "# Resta elemento a elemento; las dos formas de hacerlo son equivalentes\n",
        "# [[-4.0 -4.0]\n",
        "#  [-4.0 -4.0]]\n",
        "print(x - y)\n",
        "print(np.subtract(x, y))\n",
        "\n",
        "# Producto elemento a elemento; las dos formas de hacerlo son equivalentes\n",
        "# [[ 5.0 12.0]\n",
        "#  [21.0 32.0]]\n",
        "print(x * y)\n",
        "print(np.multiply(x, y))\n",
        "\n",
        "# División elemento a elemento; las dos formas de hacerlo son equivalentes\n",
        "# [[ 0.2         0.33333333]\n",
        "#  [ 0.42857143  0.5       ]]\n",
        "print(x / y)\n",
        "print(np.divide(x, y))\n",
        "\n",
        "# Raíz cuadrada elemento a elemento\n",
        "# [[ 1.          1.41421356]\n",
        "#  [ 1.73205081  2.        ]]\n",
        "print(np.sqrt(x))"
      ]
    },
    {
      "cell_type": "markdown",
      "metadata": {
        "id": "r6Xs1VbWQQ41"
      },
      "source": [
        "Numpy provee varias funciones muy útiles para realizar cálculo sobre arreglos; una de las más útiles es la suma."
      ]
    },
    {
      "cell_type": "code",
      "execution_count": null,
      "metadata": {
        "id": "6YLQQQesQQ41"
      },
      "outputs": [],
      "source": [
        "import numpy as np\n",
        "\n",
        "x = np.array([[1,2],[3,4]])\n",
        "\n",
        "print(np.sum(x)) # Calcula la suma de todos los elementos; imprime \"10\"\n",
        "print(np.sum(x, axis=0))  # Calcula la suma de cada columna; imprime \"[4 6]\"\n",
        "print(np.sum(x, axis=1))  # Calcula la suma de cada fila; imprime \"[3 7]\""
      ]
    },
    {
      "cell_type": "markdown",
      "metadata": {
        "id": "zxjE62cRQQ41"
      },
      "source": [
        "Pude encontrar la lista de funciones matemáticas que proporciona numpy [en la documentación](https://numpy.org/doc/stable/reference/routines.math.html)."
      ]
    },
    {
      "cell_type": "markdown",
      "metadata": {
        "id": "tGDbrb7YQQ42"
      },
      "source": [
        "## **Matplotlib**\n",
        "<img src=\"https://matplotlib.org/_static/logo2_compressed.svg\" width=300px>\n",
        "\n",
        "Matplotlib es una librería para la visualización de datos que utiliza matrices numpy.\n",
        "\n",
        "**Graficando funciones simples**: Graficando una función de la forma $y = f(x)$."
      ]
    },
    {
      "cell_type": "code",
      "execution_count": 4,
      "metadata": {
        "id": "F-hQjJQXQQ42"
      },
      "outputs": [],
      "source": [
        "# Importamos las librerías y establecemos un \"estilo\"\n",
        "import matplotlib.pyplot as plt\n",
        "plt.style.use('seaborn-whitegrid')\n",
        "import numpy as np"
      ]
    },
    {
      "cell_type": "markdown",
      "metadata": {
        "id": "w8SEaa6pQQ42"
      },
      "source": [
        "Para todas las gráficas de matplotlib, empezamos creando una figura (`figure`) y ejes (`axes`)."
      ]
    },
    {
      "cell_type": "code",
      "execution_count": 5,
      "metadata": {
        "id": "SCnH8UNBQQ42",
        "outputId": "c16fd715-6bdc-40af-ea03-07fcf9c966e6",
        "colab": {
          "base_uri": "https://localhost:8080/",
          "height": 266
        }
      },
      "outputs": [
        {
          "output_type": "display_data",
          "data": {
            "text/plain": [
              "<Figure size 432x288 with 1 Axes>"
            ],
            "image/png": "[encoded data removed]"
          },
          "metadata": {}
        }
      ],
      "source": [
        "fig = plt.figure()\n",
        "ax = plt.axes()"
      ]
    },
    {
      "cell_type": "markdown",
      "metadata": {
        "id": "UlUFNNJjQQ42"
      },
      "source": [
        "En matplotlib, la figura (`figure`) (una instancia de la clas `plt.figure`) puede pensarse como un contenedor para todos los objetos como ejes, graficas, texto y etiquetas.\n",
        "\n",
        "Una vez creados los ejes (`axes`) podemos usar la función `ax.plot` para graficar datos."
      ]
    },
    {
      "cell_type": "code",
      "execution_count": 6,
      "metadata": {
        "id": "4_FqcrxiQQ42",
        "outputId": "e5537c39-602e-460d-bd20-fd08edfdcfe0",
        "colab": {
          "base_uri": "https://localhost:8080/",
          "height": 262
        }
      },
      "outputs": [
        {
          "output_type": "display_data",
          "data": {
            "text/plain": [
              "<Figure size 432x288 with 1 Axes>"
            ],
            "image/png": "[encoded data removed]"
          },
          "metadata": {}
        }
      ],
      "source": [
        "# Crear la figura y los ejes\n",
        "fig = plt.figure()\n",
        "ax = plt.axes()\n",
        "\n",
        "# Creamos un arreglo con 1000 numeros uniformemente distribuidos entre 0 y 10.\n",
        "# Puede pensar en esto como el dominio de la función, i.e. el intervalo [0, 10]\n",
        "x = np.linspace(0, 10, 1000)\n",
        "ax.plot(x, np.sin(x));\n",
        "plt.show()"
      ]
    },
    {
      "cell_type": "markdown",
      "metadata": {
        "id": "Hi9wqMs3QQ43"
      },
      "source": [
        "Si queremos crear una sola figura con multiples gráficas, podemos simplemente llamar la función `plot` varias veces."
      ]
    },
    {
      "cell_type": "code",
      "execution_count": 7,
      "metadata": {
        "id": "fNkxve02QQ43",
        "outputId": "02d5c901-ba7a-4b25-fc3d-609dd13289c4",
        "colab": {
          "base_uri": "https://localhost:8080/",
          "height": 262
        }
      },
      "outputs": [
        {
          "output_type": "display_data",
          "data": {
            "text/plain": [
              "<Figure size 432x288 with 1 Axes>"
            ],
            "image/png": "[encoded data removed]"
          },
          "metadata": {}
        }
      ],
      "source": [
        "fig = plt.figure()\n",
        "ax = plt.axes()\n",
        "\n",
        "x = np.linspace(0, 10, 1000)\n",
        "ax.plot(x, np.sin(x))\n",
        "ax.plot(x, np.cos(x));\n",
        "plt.show()"
      ]
    },
    {
      "cell_type": "markdown",
      "metadata": {
        "id": "HS5FyUe8QQ43"
      },
      "source": [
        "Matplotlib le permite modificar las figuras agregando más información como título de la gráficas, etiquetar los ejes o las gráficas."
      ]
    },
    {
      "cell_type": "code",
      "execution_count": 8,
      "metadata": {
        "id": "QDqF819EQQ43",
        "outputId": "35caaac7-14f9-4d84-87b8-ac2d99a672e7",
        "colab": {
          "base_uri": "https://localhost:8080/",
          "height": 291
        }
      },
      "outputs": [
        {
          "output_type": "display_data",
          "data": {
            "text/plain": [
              "<Figure size 864x288 with 1 Axes>"
            ],
            "image/png": "[encoded data removed]"
          },
          "metadata": {}
        }
      ],
      "source": [
        "# Puede indicar el tamaño de la figura con el parámetro figsize = (ancho, alto)\n",
        "fig = plt.figure(figsize=(12, 4))\n",
        "ax = plt.axes()\n",
        "\n",
        "x = np.linspace(0, 4 * np.pi, 1000)\n",
        "\n",
        "# La opción '-g' indica que la linea de la gráfica es continua (-) y de color verde (g)\n",
        "# label='sin(x)' indica que la linea se etiquetará como 'sin(x)'\n",
        "ax.plot(x, np.sin(x), '-g', label='sin(x)')\n",
        "# La opción ':b' indica que la linea de la gráfica es punteada (:) y de color azul (g)\n",
        "# label='cos(x)' indica que la linea se etiquetará como 'cos(x)'\n",
        "ax.plot(x, np.cos(x), ':b', label='cos(x)')\n",
        "plt.title(\"Dos períodos de las funciones sin(x) y cos(x)\") # Título de la gráfica\n",
        "plt.xlabel(\"x\") # Etiqueta para el eje horizontal\n",
        "plt.ylabel(\"sin(x)\") # Etiqueta para el eje vertical\n",
        "plt.legend() # Mostrar las etiquetas de cada plot\n",
        "plt.show()"
      ]
    },
    {
      "cell_type": "markdown",
      "metadata": {
        "id": "0cfvlk7PQQ43"
      },
      "source": [
        "## **Scipy** \n",
        "<img src=\"https://docs.scipy.org/doc/scipy/reference/_static/scipyshiny_small.png\" width=100px/>\n",
        "\n",
        "Scipy es una librería que contine módulos para optimización, álgebra lineal, integración, interpolación, funciones especiales, transformada de Fourier, procesamiento de señales y de imágenes, resolución de EDOs y otras tareas para la ciencia e ingeniería.\n",
        "\n",
        "**Integración**: Para realizar la integral numérica $\\displaystyle\\int_a^b f(x)dx$ podemos usar la función `quad` que permite integrar una función de una variable entre dos puntos. Los puntos pueden ser `np.inf` para indicar $\\infty$.\n",
        "\n",
        "Por ejemplo suponga que se quiere integrar la función $f(x) = 2x^2 + 3$ en el intervalo $[0, 1]$, i.e.\n",
        "$$I = \\int_0^1 (2x^2 + 3)dx.$$"
      ]
    },
    {
      "cell_type": "code",
      "execution_count": 9,
      "metadata": {
        "id": "qShee60LQQ43",
        "outputId": "cece9bcc-7d59-46cb-8fe0-009f43b7490d",
        "colab": {
          "base_uri": "https://localhost:8080/"
        }
      },
      "outputs": [
        {
          "output_type": "stream",
          "name": "stdout",
          "text": [
            "El resultado de la integral es 3.666666666666667, calculada con un error aproximado de 4.0708177569589075e-14\n"
          ]
        }
      ],
      "source": [
        "# Importamos la función quad del modulo integrate de scipy\n",
        "from scipy.integrate import quad\n",
        "\n",
        "# Definimos la función que queremos integrar\n",
        "def integrand(x):\n",
        "    return 2*x**2 + 3\n",
        "\n",
        "# El método quad devuelve el resultado de la integral y el error absoluto aproximado\n",
        "I, e = quad(integrand, 0, 1)\n",
        "\n",
        "print(f\"El resultado de la integral es {I}, calculada con un error aproximado de {e}\")"
      ]
    },
    {
      "cell_type": "markdown",
      "metadata": {
        "id": "_knji_gKQQ43"
      },
      "source": [
        "# **Ejercicios**\n",
        "\n",
        "1. Grafique las funciones $y = \\cos \\left(  n \\pi t \\right)$ para $n = 1, 2$ y $3$ en el intervalo $[-\\pi, \\pi]$, todas en la misma figura de tamaño `figsize=(12, 4)`."
      ]
    },
    {
      "cell_type": "code",
      "execution_count": 10,
      "metadata": {
        "id": "10hPOFYKQQ43"
      },
      "outputs": [],
      "source": [
        "# Resuelva aquí el problema 1\n",
        "\n",
        "\n",
        "\n",
        "\n",
        "\n",
        "\n"
      ]
    },
    {
      "cell_type": "markdown",
      "metadata": {
        "id": "OxFaOZ_pQQ43"
      },
      "source": [
        "2. Grafique la función $f(t) = \\displaystyle\\sum_{k= 1}^n (-1)^k \\cos (k \\pi  t)$ para $n = 1, 2$ y $3$."
      ]
    },
    {
      "cell_type": "code",
      "execution_count": null,
      "metadata": {
        "id": "0srHsEIRQQ44"
      },
      "outputs": [],
      "source": [
        "# Resuelva aquí el problema 2"
      ]
    },
    {
      "cell_type": "markdown",
      "metadata": {
        "id": "HdiRknH4QQ44"
      },
      "source": [
        "3. Grafique la siguiente función periódica.\n",
        "\n",
        "$$f(t) = \\left\\{\\begin{array}{ll} -1, & -1 < t < 0 \\\\ 1, & 0 < t < 1 \\end{array} \\right.,$$\n",
        "\n",
        "con período $T = 2$, en el intervalo $[0, 6]$. Note que debe graficar 3 períodos de la función."
      ]
    },
    {
      "cell_type": "code",
      "execution_count": null,
      "metadata": {
        "id": "npJhDYChQQ44"
      },
      "outputs": [],
      "source": [
        "# Resuelva aquí el problema 3"
      ]
    },
    {
      "cell_type": "markdown",
      "metadata": {
        "id": "Ju3qm4MqQQ44"
      },
      "source": [
        "4.\n",
        "a) Construya una función `producto_interno(f, g)` que calcule el siguiente profucto interno:\n",
        "$$\\langle \\, f \\, | \\, g \\,  \\rangle = \\int_0^1 f(t)g(t) dt$$\n",
        "\n",
        "b) Las [funciones de Walsh](https://mathworld.wolfram.com/WalshFunction.html) forman un conjunto de funciones ortogonales. Estas funciones son útiles en varias áreas del procesamiento digital de señales.\n",
        "Las funciones de Walsh toman solamente los valores de $1$ o $-1$ en subintervalos de $[0, 1]$ determinados por [fracciones diádicas](https://es.wikipedia.org/wiki/Racional_di%C3%A1dico). Las primeras cinco funciones de Walsh, $y_0(t), y_1(t),y_2(t),y_3(t), y_4(t)$ y $y_5(t)$ son las siguientes:\n",
        "\n",
        "<img src=\"https://github.com/ivan-jgr/computacion-cientifica/blob/main/misc/Walsh_functions.png?raw=true\"/>\n",
        "\n",
        "Escriba las funciones `y0_(t)`, `y1_(t)`, `y2_(t)`, `y3_(t)` y `y4_(t)`.\n",
        "\n",
        "c) Para una función $f(t)$,  encuentre una *aproximación* de $f(t)$ de la forma\n",
        "$$\\hat{f}(t) =  \\sum_{n = 0}^4 \\alpha_n y_n(t),$$\n",
        "en donde $\\alpha_n = \\dfrac{\\langle  f \\, | \\, y_n \\rangle}{\\Vert y_n \\Vert^2 }.$\n",
        "\n",
        "d) Escriba una función que grafique (en la misma figura) $x(t)$ y su aproximación $\\hat{x}(t)$."
      ]
    },
    {
      "cell_type": "code",
      "execution_count": null,
      "metadata": {
        "id": "T0yo5y-JQQ44"
      },
      "outputs": [],
      "source": [
        "# Resuelva aquí el problema 4a)\n",
        "def producto_interno(f, g):\n",
        "    \"\"\"\n",
        "    Función que calcula el producto interno entre f y g\n",
        "    \n",
        "    :param f: es una función\n",
        "    :param g: es una función\n",
        "    :returns: retorna el producto interno como un float\n",
        "    \"\"\"\n",
        "    pass"
      ]
    },
    {
      "cell_type": "code",
      "execution_count": null,
      "metadata": {
        "id": "qpDbGk_qQQ44"
      },
      "outputs": [],
      "source": [
        "# Importamos la función quad del modulo integrate de scipy\n",
        "import numpy as np\n",
        "\n",
        "## Aquí no tiene que hacer nada. Verificamos si su función está bien implementada\n",
        "# Funciones de ejemplo\n",
        "f_test = lambda x: x\n",
        "g_test = lambda x: np.sin(x)*x**2\n",
        "\n",
        "producto_interno(f_test, g_test)"
      ]
    },
    {
      "cell_type": "markdown",
      "metadata": {
        "id": "6Q-CQfFiQQ44"
      },
      "source": [
        "El resultado al ejecutar la celda anterior debería ser `0.17709857491700906` o similar."
      ]
    },
    {
      "cell_type": "code",
      "execution_count": null,
      "metadata": {
        "id": "P5Pnl-rdQQ44"
      },
      "outputs": [],
      "source": [
        "# Resuelva aqui el problema 4b)\n",
        "def y0(t):\n",
        "    \"\"\"\n",
        "    Primera función de Walsh\n",
        "    \"\"\"\n",
        "    pass\n",
        "\n",
        "def y1(t):\n",
        "    \"\"\"\n",
        "    Segunda función de Walsh\n",
        "    \"\"\"\n",
        "    pass\n",
        "\n",
        "def y2(t):\n",
        "    \"\"\"\n",
        "    Tercera función de Walsh\n",
        "    \"\"\"\n",
        "    pass\n",
        "\n",
        "def y3(t):\n",
        "    \"\"\"\n",
        "    Cuarta función de Walsh\n",
        "    \"\"\"\n",
        "    pass\n",
        "\n",
        "def y4(t):\n",
        "    \"\"\"\n",
        "    Quinta función de Walsh\n",
        "    \"\"\"\n",
        "    pass"
      ]
    },
    {
      "cell_type": "code",
      "execution_count": null,
      "metadata": {
        "id": "UqN4rO4GQQ44"
      },
      "outputs": [],
      "source": [
        "## Aquí no tiene que hacer nada. Verificamos si su función está bien implementada\n",
        "\n",
        "import itertools\n",
        "\n",
        "# Verificando que las funciones sean ortogonales.\n",
        "O = [y0, y1, y2, y3, y4]\n",
        "comb = itertools.combinations(iter(O), 2)\n",
        "list(map(lambda x: producto_interno(x[0], x[1]), comb))"
      ]
    },
    {
      "cell_type": "markdown",
      "metadata": {
        "id": "5ibLTL5RQQ44"
      },
      "source": [
        "El resultado que debería obtener al ejecutar la celda anterior es `[0.0, 0.0, 0.0, 0.0, 0.0, 0.0, 0.0, 0.0, 0.0, 0.0]`."
      ]
    },
    {
      "cell_type": "code",
      "execution_count": null,
      "metadata": {
        "id": "wi9DuN0lQQ45"
      },
      "outputs": [],
      "source": [
        "## Aquí no tiene que hacer nada. Verificamos si su función está bien implementada\n",
        "\n",
        "import matplotlib.pyplot as plt\n",
        "plt.style.use('seaborn-whitegrid')\n",
        "\n",
        "\n",
        "t = np.linspace(0, 1, 1000)\n",
        "\n",
        "fig, axs = plt.subplots(3, 2)\n",
        "fig.set_size_inches(12, 8)\n",
        "axs[0, 0].plot(t, [y0(u) for u in t])\n",
        "axs[0, 0].set_title('$y_0(t)$')\n",
        "\n",
        "axs[0, 1].plot(t, [y1(u) for u in t], 'tab:orange')\n",
        "axs[0, 1].set_title('$y_1(t)$')\n",
        "\n",
        "axs[1, 0].plot(t, [y2(u) for u in t], 'tab:green')\n",
        "axs[1, 0].set_title('$y_2(t)$')\n",
        "\n",
        "axs[1, 1].plot(t, [y3(u) for u in t], 'tab:red')\n",
        "axs[1, 1].set_title('y_3(t)')\n",
        "\n",
        "axs[2, 0].plot(t, [y4(u) for u in t], 'tab:gray')\n",
        "axs[2, 0].set_title('y_4(t)')\n",
        "\n",
        "for ax in axs.flat:\n",
        "    ax.set(xlabel='t')\n",
        "    ax.set_ylim(-1.2, 1.3)\n",
        "    ax.set_yticks([-1, 0, 1])\n",
        "\n",
        "# Hide x labels and tick labels for top plots and y ticks for right plots.\n",
        "for ax in axs.flat:\n",
        "    ax.label_outer()"
      ]
    },
    {
      "cell_type": "markdown",
      "metadata": {
        "id": "dnpG513QQQ45"
      },
      "source": [
        "Asegúrese que las funciones graficadas en la figura anterior corresponda a las funciones de Welsh mostradas en 4b)."
      ]
    },
    {
      "cell_type": "code",
      "execution_count": null,
      "metadata": {
        "id": "9Holiye6QQ45"
      },
      "outputs": [],
      "source": [
        "# Resuelva aquí el problema 4c)\n",
        "def expansion_ortogonal(f, O=[y0, y1, y2, y3, y4]):\n",
        "    \"\"\"\n",
        "    Calcula la aproximación de f como una serie\n",
        "    :param f: La función que se quiere aproximar\n",
        "    :param O: es una `list` de funciones. La lista contiene las 5 primeras funciones de Walsh\n",
        "    :return: una función que es la aproximación de f\n",
        "    \"\"\"\n",
        "    pass"
      ]
    },
    {
      "cell_type": "code",
      "execution_count": null,
      "metadata": {
        "id": "udgEK57AQQ45"
      },
      "outputs": [],
      "source": [
        "## Aquí no tiene que hacer nada. Verificamos si su función está bien implementada\n",
        "\n",
        "f_hat = expansion_ortogonal(lambda x: -x)\n",
        "\n",
        "# Asegurarse que devolvió una función\n",
        "assert callable(f_hat), \"Debe retornar una función\"\n",
        "\n",
        "t = np.linspace(0, 1, 1000)\n",
        "plt.plot(t, np.vectorize(f_hat)(t))\n",
        "plt.show()"
      ]
    },
    {
      "cell_type": "markdown",
      "metadata": {
        "id": "iTO0RcpdQQ45"
      },
      "source": [
        "La gráfica de la celda anterior debería verse similar a esta:\n",
        "<img src=\"https://github.com/ivan-jgr/computacion-cientifica/blob/main/misc/img1_lb1.png?raw=true\"/>"
      ]
    },
    {
      "cell_type": "code",
      "execution_count": null,
      "metadata": {
        "id": "S8fc6Kt7QQ45"
      },
      "outputs": [],
      "source": [
        "# Resuelva aquí el problema 4d)\n",
        "def plot_f_and_aprox(f, f_hat):\n",
        "    \"\"\"\n",
        "    Grafica f y su aproximación como serie f_hat para 0 <= t <= 1\n",
        "    :param f: es la función original\n",
        "    :param f_hat: es la aproximación de f\n",
        "    \"\"\"\n",
        "    pass"
      ]
    },
    {
      "cell_type": "code",
      "execution_count": null,
      "metadata": {
        "id": "sEvscdBrQQ45"
      },
      "outputs": [],
      "source": [
        "## Aquí no tiene que hacer nada. Verificamos si su función está bien implementada\n",
        "\n",
        "# funciones de ejemplo\n",
        "f_test1 = lambda u: np.sin(np.pi*u)\n",
        "f_test2 = lambda u: u**2\n",
        "f_test3 = lambda u: np.sin(2*np.pi*u) + np.cos(np.pi*u)\n",
        "\n",
        "# Compare las funciones con su aproximación\n",
        "plot_f_and_aprox(f_test1, expansion_ortogonal(f_test1))\n",
        "plot_f_and_aprox(f_test2, expansion_ortogonal(f_test2))\n",
        "plot_f_and_aprox(f_test3, expansion_ortogonal(f_test3))"
      ]
    },
    {
      "cell_type": "markdown",
      "metadata": {
        "id": "zGQ5JeVhQ0rf"
      },
      "source": [
        "# **Instrucciones Generales**\n",
        "\n",
        "\n",
        "1.   Este laboratorio será realizado de manera *individual*.\n",
        "2.   **Fecha de Entrega:** Jueves 29 de Julio de 2021. Su solución debe subirla en un archivo ZIP enviado por GES y debe contener el archivo `.ipynb` con sus respuesta a cada inciso solicitado en la sección de \"*Ejercicios*\". \n",
        "\n"
      ]
    }
  ],
  "metadata": {
    "colab": {
      "name": "Laboratorio-1.ipynb",
      "provenance": []
    },
    "kernelspec": {
      "display_name": "math",
      "language": "python",
      "name": "math"
    },
    "language_info": {
      "codemirror_mode": {
        "name": "ipython",
        "version": 3
      },
      "file_extension": ".py",
      "mimetype": "text/x-python",
      "name": "python",
      "nbconvert_exporter": "python",
      "pygments_lexer": "ipython3",
      "version": "3.7.4"
    }
  },
  "nbformat": 4,
  "nbformat_minor": 0
}